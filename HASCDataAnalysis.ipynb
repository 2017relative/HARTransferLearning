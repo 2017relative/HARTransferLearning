{
 "cells": [
  {
   "cell_type": "code",
   "execution_count": 1,
   "metadata": {},
   "outputs": [],
   "source": [
    "import numpy as np\n",
    "import pandas as pd\n",
    "import os\n",
    "import seaborn as sns\n",
    "from scipy import stats\n",
    "from sklearn import metrics\n",
    "import matplotlib.pyplot as plt"
   ]
  },
  {
   "cell_type": "code",
   "execution_count": 2,
   "metadata": {},
   "outputs": [
    {
     "name": "stdout",
     "output_type": "stream",
     "text": [
      "['Jogging', 'Sit_Down', 'Skip', 'Stand_Up', 'Stay', 'Walk']\n",
      "Jogging\n",
      "Sit_Down\n",
      "Skip\n",
      "Stand_Up\n",
      "Stay\n",
      "Walk\n"
     ]
    }
   ],
   "source": [
    "dataset_path = './dataset/HASC/'\n",
    "activity_folders = os.listdir(dataset_path)\n",
    "print(activity_folders)\n",
    "\n",
    "df = pd.DataFrame()\n",
    "df_list = []\n",
    "\n",
    "for i in range(len(activity_folders)):\n",
    "    activity_folder = activity_folders[i]\n",
    "    print(activity_folder)\n",
    "    \n",
    "    person_folder_path = dataset_path + activity_folder + '/'\n",
    "    person_folders = os.listdir(person_folder_path)\n",
    "    \n",
    "    for j in range(len(person_folders)):\n",
    "        person_folder = person_folders[j]\n",
    "        \n",
    "        csv_file_path = dataset_path + activity_folder + '/' + person_folder + '/'\n",
    "        csv_files = os.listdir(csv_file_path)\n",
    "        \n",
    "        for k in range(len(csv_files)):\n",
    "            csv_file = csv_files[k]\n",
    "            #print(csv_file)\n",
    "            \n",
    "            data_frame = pd.read_csv(csv_file_path + '/' + csv_file, index_col=None, header=None)\n",
    "            data_frame['Activity'] = activity_folder\n",
    "            df_list.append(data_frame)\n",
    "        \n",
    "df = pd.concat(df_list, axis = 0, sort= True, ignore_index = True)\n",
    "df.columns = ['Timestamp', 'Ax', 'Ay', 'Az', 'Activity']"
   ]
  },
  {
   "cell_type": "code",
   "execution_count": 3,
   "metadata": {},
   "outputs": [
    {
     "name": "stdout",
     "output_type": "stream",
     "text": [
      "Total rows :  593233\n"
     ]
    },
    {
     "data": {
      "text/html": [
       "<div>\n",
       "<style scoped>\n",
       "    .dataframe tbody tr th:only-of-type {\n",
       "        vertical-align: middle;\n",
       "    }\n",
       "\n",
       "    .dataframe tbody tr th {\n",
       "        vertical-align: top;\n",
       "    }\n",
       "\n",
       "    .dataframe thead th {\n",
       "        text-align: right;\n",
       "    }\n",
       "</style>\n",
       "<table border=\"1\" class=\"dataframe\">\n",
       "  <thead>\n",
       "    <tr style=\"text-align: right;\">\n",
       "      <th></th>\n",
       "      <th>Timestamp</th>\n",
       "      <th>Ax</th>\n",
       "      <th>Ay</th>\n",
       "      <th>Az</th>\n",
       "      <th>Activity</th>\n",
       "    </tr>\n",
       "  </thead>\n",
       "  <tbody>\n",
       "    <tr>\n",
       "      <th>0</th>\n",
       "      <td>10122.863440</td>\n",
       "      <td>0.618271</td>\n",
       "      <td>-1.966354</td>\n",
       "      <td>0.961472</td>\n",
       "      <td>Jogging</td>\n",
       "    </tr>\n",
       "    <tr>\n",
       "      <th>1</th>\n",
       "      <td>10122.934788</td>\n",
       "      <td>0.457809</td>\n",
       "      <td>-1.044403</td>\n",
       "      <td>0.726517</td>\n",
       "      <td>Jogging</td>\n",
       "    </tr>\n",
       "    <tr>\n",
       "      <th>2</th>\n",
       "      <td>10122.944823</td>\n",
       "      <td>0.724289</td>\n",
       "      <td>-0.825272</td>\n",
       "      <td>0.512680</td>\n",
       "      <td>Jogging</td>\n",
       "    </tr>\n",
       "    <tr>\n",
       "      <th>3</th>\n",
       "      <td>10122.954857</td>\n",
       "      <td>0.762573</td>\n",
       "      <td>-0.568726</td>\n",
       "      <td>0.249176</td>\n",
       "      <td>Jogging</td>\n",
       "    </tr>\n",
       "    <tr>\n",
       "      <th>4</th>\n",
       "      <td>10122.964863</td>\n",
       "      <td>0.736816</td>\n",
       "      <td>-0.304901</td>\n",
       "      <td>0.134369</td>\n",
       "      <td>Jogging</td>\n",
       "    </tr>\n",
       "  </tbody>\n",
       "</table>\n",
       "</div>"
      ],
      "text/plain": [
       "      Timestamp        Ax        Ay        Az Activity\n",
       "0  10122.863440  0.618271 -1.966354  0.961472  Jogging\n",
       "1  10122.934788  0.457809 -1.044403  0.726517  Jogging\n",
       "2  10122.944823  0.724289 -0.825272  0.512680  Jogging\n",
       "3  10122.954857  0.762573 -0.568726  0.249176  Jogging\n",
       "4  10122.964863  0.736816 -0.304901  0.134369  Jogging"
      ]
     },
     "execution_count": 3,
     "metadata": {},
     "output_type": "execute_result"
    }
   ],
   "source": [
    "print('Total rows : ', len(df))\n",
    "df.head()"
   ]
  },
  {
   "cell_type": "code",
   "execution_count": 4,
   "metadata": {},
   "outputs": [
    {
     "data": {
      "image/png": "[encoded data removed]",
      "text/plain": [
       "<Figure size 432x288 with 1 Axes>"
      ]
     },
     "metadata": {
      "needs_background": "light"
     },
     "output_type": "display_data"
    }
   ],
   "source": [
    "df['Activity'].value_counts().plot(kind='bar', title='Records by Activity Type', figsize=(6, 4),align='center');"
   ]
  },
  {
   "cell_type": "markdown",
   "metadata": {},
   "source": [
    "# Remove activities"
   ]
  },
  {
   "cell_type": "code",
   "execution_count": 5,
   "metadata": {},
   "outputs": [],
   "source": [
    "indexes = df[ (df['Activity'] == 'Stay') | (df['Activity'] == 'Skip') ].index\n",
    "df.drop(indexes , inplace=True)"
   ]
  },
  {
   "cell_type": "code",
   "execution_count": 6,
   "metadata": {},
   "outputs": [
    {
     "name": "stdout",
     "output_type": "stream",
     "text": [
      "Total rows :  394130\n"
     ]
    },
    {
     "data": {
      "text/html": [
       "<div>\n",
       "<style scoped>\n",
       "    .dataframe tbody tr th:only-of-type {\n",
       "        vertical-align: middle;\n",
       "    }\n",
       "\n",
       "    .dataframe tbody tr th {\n",
       "        vertical-align: top;\n",
       "    }\n",
       "\n",
       "    .dataframe thead th {\n",
       "        text-align: right;\n",
       "    }\n",
       "</style>\n",
       "<table border=\"1\" class=\"dataframe\">\n",
       "  <thead>\n",
       "    <tr style=\"text-align: right;\">\n",
       "      <th></th>\n",
       "      <th>Timestamp</th>\n",
       "      <th>Ax</th>\n",
       "      <th>Ay</th>\n",
       "      <th>Az</th>\n",
       "      <th>Activity</th>\n",
       "    </tr>\n",
       "  </thead>\n",
       "  <tbody>\n",
       "    <tr>\n",
       "      <th>0</th>\n",
       "      <td>10122.863440</td>\n",
       "      <td>0.618271</td>\n",
       "      <td>-1.966354</td>\n",
       "      <td>0.961472</td>\n",
       "      <td>Jogging</td>\n",
       "    </tr>\n",
       "    <tr>\n",
       "      <th>1</th>\n",
       "      <td>10122.934788</td>\n",
       "      <td>0.457809</td>\n",
       "      <td>-1.044403</td>\n",
       "      <td>0.726517</td>\n",
       "      <td>Jogging</td>\n",
       "    </tr>\n",
       "    <tr>\n",
       "      <th>2</th>\n",
       "      <td>10122.944823</td>\n",
       "      <td>0.724289</td>\n",
       "      <td>-0.825272</td>\n",
       "      <td>0.512680</td>\n",
       "      <td>Jogging</td>\n",
       "    </tr>\n",
       "    <tr>\n",
       "      <th>3</th>\n",
       "      <td>10122.954857</td>\n",
       "      <td>0.762573</td>\n",
       "      <td>-0.568726</td>\n",
       "      <td>0.249176</td>\n",
       "      <td>Jogging</td>\n",
       "    </tr>\n",
       "    <tr>\n",
       "      <th>4</th>\n",
       "      <td>10122.964863</td>\n",
       "      <td>0.736816</td>\n",
       "      <td>-0.304901</td>\n",
       "      <td>0.134369</td>\n",
       "      <td>Jogging</td>\n",
       "    </tr>\n",
       "  </tbody>\n",
       "</table>\n",
       "</div>"
      ],
      "text/plain": [
       "      Timestamp        Ax        Ay        Az Activity\n",
       "0  10122.863440  0.618271 -1.966354  0.961472  Jogging\n",
       "1  10122.934788  0.457809 -1.044403  0.726517  Jogging\n",
       "2  10122.944823  0.724289 -0.825272  0.512680  Jogging\n",
       "3  10122.954857  0.762573 -0.568726  0.249176  Jogging\n",
       "4  10122.964863  0.736816 -0.304901  0.134369  Jogging"
      ]
     },
     "execution_count": 6,
     "metadata": {},
     "output_type": "execute_result"
    }
   ],
   "source": [
    "print('Total rows : ', len(df))\n",
    "df.head()"
   ]
  },
  {
   "cell_type": "code",
   "execution_count": 7,
   "metadata": {},
   "outputs": [
    {
     "data": {
      "image/png": "[encoded data removed]",
      "text/plain": [
       "<Figure size 432x288 with 1 Axes>"
      ]
     },
     "metadata": {
      "needs_background": "light"
     },
     "output_type": "display_data"
    }
   ],
   "source": [
    "df['Activity'].value_counts().plot(kind='bar', title='Training examples by activity type');"
   ]
  },
  {
   "cell_type": "markdown",
   "metadata": {},
   "source": [
    "# Map and Sort"
   ]
  },
  {
   "cell_type": "code",
   "execution_count": 8,
   "metadata": {},
   "outputs": [
    {
     "data": {
      "text/plain": [
       "Sit_Down    100558\n",
       "Walk         98558\n",
       "Jogging      98265\n",
       "Stand_Up     96749\n",
       "Name: Activity, dtype: int64"
      ]
     },
     "execution_count": 8,
     "metadata": {},
     "output_type": "execute_result"
    }
   ],
   "source": [
    "df['Activity'].value_counts()"
   ]
  },
  {
   "cell_type": "code",
   "execution_count": 9,
   "metadata": {},
   "outputs": [],
   "source": [
    "df['Activity'] = df['Activity'].map({'Jogging': 0, 'Walk': 1, 'Stand_Up': 2, 'Sit_Down': 3})"
   ]
  },
  {
   "cell_type": "code",
   "execution_count": 10,
   "metadata": {},
   "outputs": [],
   "source": [
    "#df = df.sort_values('Activity')"
   ]
  },
  {
   "cell_type": "code",
   "execution_count": 11,
   "metadata": {},
   "outputs": [
    {
     "data": {
      "text/html": [
       "<div>\n",
       "<style scoped>\n",
       "    .dataframe tbody tr th:only-of-type {\n",
       "        vertical-align: middle;\n",
       "    }\n",
       "\n",
       "    .dataframe tbody tr th {\n",
       "        vertical-align: top;\n",
       "    }\n",
       "\n",
       "    .dataframe thead th {\n",
       "        text-align: right;\n",
       "    }\n",
       "</style>\n",
       "<table border=\"1\" class=\"dataframe\">\n",
       "  <thead>\n",
       "    <tr style=\"text-align: right;\">\n",
       "      <th></th>\n",
       "      <th>Timestamp</th>\n",
       "      <th>Ax</th>\n",
       "      <th>Ay</th>\n",
       "      <th>Az</th>\n",
       "      <th>Activity</th>\n",
       "    </tr>\n",
       "  </thead>\n",
       "  <tbody>\n",
       "    <tr>\n",
       "      <th>0</th>\n",
       "      <td>10122.863440</td>\n",
       "      <td>0.618271</td>\n",
       "      <td>-1.966354</td>\n",
       "      <td>0.961472</td>\n",
       "      <td>0</td>\n",
       "    </tr>\n",
       "    <tr>\n",
       "      <th>1</th>\n",
       "      <td>10122.934788</td>\n",
       "      <td>0.457809</td>\n",
       "      <td>-1.044403</td>\n",
       "      <td>0.726517</td>\n",
       "      <td>0</td>\n",
       "    </tr>\n",
       "    <tr>\n",
       "      <th>2</th>\n",
       "      <td>10122.944823</td>\n",
       "      <td>0.724289</td>\n",
       "      <td>-0.825272</td>\n",
       "      <td>0.512680</td>\n",
       "      <td>0</td>\n",
       "    </tr>\n",
       "    <tr>\n",
       "      <th>3</th>\n",
       "      <td>10122.954857</td>\n",
       "      <td>0.762573</td>\n",
       "      <td>-0.568726</td>\n",
       "      <td>0.249176</td>\n",
       "      <td>0</td>\n",
       "    </tr>\n",
       "    <tr>\n",
       "      <th>4</th>\n",
       "      <td>10122.964863</td>\n",
       "      <td>0.736816</td>\n",
       "      <td>-0.304901</td>\n",
       "      <td>0.134369</td>\n",
       "      <td>0</td>\n",
       "    </tr>\n",
       "  </tbody>\n",
       "</table>\n",
       "</div>"
      ],
      "text/plain": [
       "      Timestamp        Ax        Ay        Az  Activity\n",
       "0  10122.863440  0.618271 -1.966354  0.961472         0\n",
       "1  10122.934788  0.457809 -1.044403  0.726517         0\n",
       "2  10122.944823  0.724289 -0.825272  0.512680         0\n",
       "3  10122.954857  0.762573 -0.568726  0.249176         0\n",
       "4  10122.964863  0.736816 -0.304901  0.134369         0"
      ]
     },
     "execution_count": 11,
     "metadata": {},
     "output_type": "execute_result"
    }
   ],
   "source": [
    "df.head()"
   ]
  },
  {
   "cell_type": "code",
   "execution_count": 12,
   "metadata": {},
   "outputs": [],
   "source": [
    "pd.options.mode.chained_assignment = None  # default='warn'\n",
    "df['Ax'] = df['Ax'] / df['Ax'].max()\n",
    "df['Ay'] = df['Ay'] / df['Ay'].max()\n",
    "df['Az'] = df['Az'] / df['Az'].max()\n",
    "# Round numbers\n",
    "df = df.round({'Ax': 4, 'Ay': 4, 'Az': 4})"
   ]
  },
  {
   "cell_type": "code",
   "execution_count": 13,
   "metadata": {},
   "outputs": [],
   "source": [
    "N_TIME_STEPS = 200\n",
    "N_FEATURES = 3\n",
    "step = 20\n",
    "segments = []\n",
    "labels = []\n",
    "\n",
    "for i in range(0, len(df) - N_TIME_STEPS, step):\n",
    "    xs = df['Ax'].values[i: i + N_TIME_STEPS]\n",
    "    ys = df['Ay'].values[i: i + N_TIME_STEPS]\n",
    "    zs = df['Az'].values[i: i + N_TIME_STEPS]\n",
    "    label = stats.mode(df['Activity'][i: i + N_TIME_STEPS])[0][0]\n",
    "    segments.append([xs, ys, zs])\n",
    "    labels.append(label)\n",
    "    \n",
    "reshaped_segments = np.asarray(segments, dtype= np.float32).reshape(-1, N_TIME_STEPS, N_FEATURES)\n",
    "labels = np.asarray(labels, dtype = np.int32)"
   ]
  },
  {
   "cell_type": "code",
   "execution_count": 14,
   "metadata": {},
   "outputs": [],
   "source": [
    "Hasc_X_train = reshaped_segments \n",
    "Hasc_Y_train = labels"
   ]
  },
  {
   "cell_type": "code",
   "execution_count": 15,
   "metadata": {},
   "outputs": [
    {
     "name": "stdout",
     "output_type": "stream",
     "text": [
      "(19697, 200, 3)\n",
      "(19697,)\n"
     ]
    }
   ],
   "source": [
    "print(Hasc_X_train.shape)\n",
    "print(Hasc_Y_train.shape)"
   ]
  },
  {
   "cell_type": "code",
   "execution_count": 16,
   "metadata": {},
   "outputs": [],
   "source": [
    "Hasc_X_train = Hasc_X_train.reshape((-1, 3, 1, 200))"
   ]
  },
  {
   "cell_type": "code",
   "execution_count": 17,
   "metadata": {},
   "outputs": [
    {
     "name": "stdout",
     "output_type": "stream",
     "text": [
      "(19697, 3, 1, 200)\n",
      "[0 0 0 ... 1 1 1]\n"
     ]
    }
   ],
   "source": [
    "print(Hasc_X_train.shape)\n",
    "print(Hasc_Y_train)"
   ]
  },
  {
   "cell_type": "code",
   "execution_count": 2,
   "metadata": {},
   "outputs": [],
   "source": [
    "def load_hasc_data():\n",
    "    dataset_path = './dataset/HASC/'\n",
    "    activity_folders = os.listdir(dataset_path)\n",
    "    print(activity_folders)\n",
    "\n",
    "    df = pd.DataFrame()\n",
    "    df_list = []\n",
    "\n",
    "    for i in range(len(activity_folders)):\n",
    "        activity_folder = activity_folders[i]\n",
    "        #print(activity_folder)\n",
    "\n",
    "        person_folder_path = dataset_path + activity_folder + '/'\n",
    "        person_folders = os.listdir(person_folder_path)\n",
    "\n",
    "        for j in range(len(person_folders)):\n",
    "            person_folder = person_folders[j]\n",
    "\n",
    "            csv_file_path = dataset_path + activity_folder + '/' + person_folder + '/'\n",
    "            csv_files = os.listdir(csv_file_path)\n",
    "\n",
    "            for k in range(len(csv_files)):\n",
    "                csv_file = csv_files[k]\n",
    "                #print(csv_file)\n",
    "\n",
    "                data_frame = pd.read_csv(csv_file_path + '/' + csv_file, index_col=None, header=None)\n",
    "                data_frame['Activity'] = activity_folder\n",
    "                df_list.append(data_frame)\n",
    "\n",
    "    df = pd.concat(df_list, axis = 0, sort= True, ignore_index = True)\n",
    "    df.columns = ['Timestamp', 'Ax', 'Ay', 'Az', 'Activity']\n",
    "    \n",
    "    indexes = df[ (df['Activity'] == 'Stay') | (df['Activity'] == 'Skip') ].index\n",
    "    df.drop(indexes , inplace=True)\n",
    "    df['Activity'] = df['Activity'].map({'Jogging': 0, 'Walk': 1, 'Stand_Up': 2, 'Sit_Down': 3})\n",
    "    \n",
    "    pd.options.mode.chained_assignment = None  # default='warn'\n",
    "    df['Ax'] = df['Ax'] / df['Ax'].max()\n",
    "    df['Ay'] = df['Ay'] / df['Ay'].max()\n",
    "    df['Az'] = df['Az'] / df['Az'].max()\n",
    "    # Round numbers\n",
    "    df = df.round({'Ax': 4, 'Ay': 4, 'Az': 4})\n",
    "    \n",
    "    N_TIME_STEPS = 200\n",
    "    N_FEATURES = 3\n",
    "    step = 20\n",
    "    segments = []\n",
    "    labels = []\n",
    "\n",
    "    for i in range(0, len(df) - N_TIME_STEPS, step):\n",
    "        xs = df['Ax'].values[i: i + N_TIME_STEPS]\n",
    "        ys = df['Ay'].values[i: i + N_TIME_STEPS]\n",
    "        zs = df['Az'].values[i: i + N_TIME_STEPS]\n",
    "        label = stats.mode(df['Activity'][i: i + N_TIME_STEPS])[0][0]\n",
    "        segments.append([xs, ys, zs])\n",
    "        labels.append(label)\n",
    "\n",
    "    Hasc_X_train = np.asarray(segments, dtype= np.float32).reshape(-1, N_TIME_STEPS, N_FEATURES)\n",
    "    Hasc_Y_train = np.asarray(labels, dtype = np.int32)\n",
    "    Hasc_X_train = Hasc_X_train.reshape((-1, 3, 1, 200))\n",
    "    \n",
    "    print('Hasc_X_train.shape : ', Hasc_X_train.shape)\n",
    "    print('Hasc_Y_train.shape : ', Hasc_Y_train.shape)\n",
    "    print('Hasc_Y_train values : ', Hasc_Y_train)\n",
    "    \n",
    "    return Hasc_X_train, Hasc_Y_train"
   ]
  },
  {
   "cell_type": "code",
   "execution_count": 3,
   "metadata": {},
   "outputs": [
    {
     "name": "stdout",
     "output_type": "stream",
     "text": [
      "['Jogging', 'Sit_Down', 'Skip', 'Stand_Up', 'Stay', 'Walk']\n",
      "Hasc_X_train.shape :  (19697, 3, 1, 200)\n",
      "Hasc_Y_train.shape :  (19697,)\n",
      "Hasc_Y_train values :  [0 0 0 ... 1 1 1]\n"
     ]
    }
   ],
   "source": [
    "if __name__ == '__main__':\n",
    "    load_hasc_data()"
   ]
  },
  {
   "cell_type": "code",
   "execution_count": null,
   "metadata": {},
   "outputs": [],
   "source": []
  }
 ],
 "metadata": {
  "kernelspec": {
   "display_name": "Python 3",
   "language": "python",
   "name": "python3"
  },
  "language_info": {
   "codemirror_mode": {
    "name": "ipython",
    "version": 3
   },
   "file_extension": ".py",
   "mimetype": "text/x-python",
   "name": "python",
   "nbconvert_exporter": "python",
   "pygments_lexer": "ipython3",
   "version": "3.6.7"
  }
 },
 "nbformat": 4,
 "nbformat_minor": 2
}
